{
 "cells": [
  {
   "cell_type": "code",
   "execution_count": null,
   "metadata": {},
   "outputs": [],
   "source": [
    "import subprocess\n",
    "import pandas as pd\n",
    "import numpy as np\n",
    "import warnings\n",
    "\n",
    "# Function to run the experiment and capture output\n",
    "def run_experiment(extadj, rate):\n",
    "    print(f\"Running experiment with extadj:{extadj}\")\n",
    "\n",
    "    command = [\n",
    "        \"python\", \"main.py\",\n",
    "        f\"--importextadj={extadj}\",\n",
    "        f\"--privacy_amplify_sampling_rate={rate}\",\n",
    "        \"--topk=8\"\n",
    "    ]\n",
    "\n",
    "    result = subprocess.run(command, capture_output=True, text=True, encoding='utf-8')\n",
    "\n",
    "    output = result.stdout\n",
    "    accuracy = None\n",
    "    for line in output.splitlines()[-10:]:\n",
    "        if \"Testing accuracy\" in line:\n",
    "            try:\n",
    "                accuracy = float(line.split(\":\")[1].strip())\n",
    "            except ValueError:\n",
    "                accuracy = None\n",
    "            break\n",
    "\n",
    "    return accuracy\n"
   ]
  },
  {
   "cell_type": "code",
   "execution_count": null,
   "metadata": {},
   "outputs": [
    {
     "name": "stdout",
     "output_type": "stream",
     "text": [
      "Running experiment with extadj:True\n",
      "Running experiment with extadj:False\n",
      "Running experiment with extadj:True\n",
      "Running experiment with extadj:False\n",
      "Running experiment with extadj:True\n",
      "Running experiment with extadj:False\n",
      "Running experiment with extadj:True\n",
      "Running experiment with extadj:False\n",
      "Running experiment with extadj:True\n",
      "Running experiment with extadj:False\n",
      "Running experiment with extadj:True\n",
      "Running experiment with extadj:False\n",
      "Running experiment with extadj:True\n",
      "Running experiment with extadj:False\n",
      "Running experiment with extadj:True\n",
      "Running experiment with extadj:False\n",
      "Running experiment with extadj:True\n",
      "Running experiment with extadj:False\n",
      "Running experiment with extadj:True\n",
      "Running experiment with extadj:False\n"
     ]
    }
   ],
   "source": [
    "extadj = []\n",
    "normal = []\n",
    "\n",
    "for i in range(10):\n",
    "    extadj.append(run_experiment(extadj=True, rate=1))\n",
    "    normal.append(run_experiment(extadj=False, rate= 0.09))\n"
   ]
  },
  {
   "cell_type": "markdown",
   "metadata": {},
   "source": [
    "Forest fire sampled"
   ]
  },
  {
   "cell_type": "code",
   "execution_count": 14,
   "metadata": {},
   "outputs": [
    {
     "name": "stdout",
     "output_type": "stream",
     "text": [
      "0.73624 0.04370467251907971\n"
     ]
    }
   ],
   "source": [
    "print(np.mean(extadj), np.std(extadj))"
   ]
  },
  {
   "cell_type": "code",
   "execution_count": 15,
   "metadata": {},
   "outputs": [
    {
     "name": "stdout",
     "output_type": "stream",
     "text": [
      "0.72912 0.04072188109603977\n"
     ]
    }
   ],
   "source": [
    "print(np.mean(normal), np.std(normal))"
   ]
  },
  {
   "cell_type": "markdown",
   "metadata": {},
   "source": [
    "Random Walk Sampled"
   ]
  },
  {
   "cell_type": "code",
   "execution_count": null,
   "metadata": {},
   "outputs": [
    {
     "name": "stdout",
     "output_type": "stream",
     "text": [
      "Running experiment with extadj:True\n",
      "Running experiment with extadj:False\n",
      "Running experiment with extadj:True\n",
      "Running experiment with extadj:False\n",
      "Running experiment with extadj:True\n",
      "Running experiment with extadj:False\n",
      "Running experiment with extadj:True\n",
      "Running experiment with extadj:False\n",
      "Running experiment with extadj:True\n",
      "Running experiment with extadj:False\n",
      "Running experiment with extadj:True\n",
      "Running experiment with extadj:False\n",
      "Running experiment with extadj:True\n",
      "Running experiment with extadj:False\n",
      "Running experiment with extadj:True\n",
      "Running experiment with extadj:False\n",
      "Running experiment with extadj:True\n",
      "Running experiment with extadj:False\n",
      "Running experiment with extadj:True\n",
      "Running experiment with extadj:False\n",
      "0.7312799999999999 0.04843421930825356\n",
      "0.71612 0.039677419270915275\n"
     ]
    }
   ],
   "source": [
    "extadj = []\n",
    "normal = []\n",
    "\n",
    "for i in range(10):\n",
    "    extadj.append(run_experiment(extadj=True, rate=1))\n",
    "    normal.append(run_experiment(extadj=False, rate= 0.09))\n",
    "\n",
    "print(np.mean(extadj), np.std(extadj))\n",
    "print(np.mean(normal), np.std(normal))"
   ]
  },
  {
   "cell_type": "markdown",
   "metadata": {},
   "source": [
    "Common Neighbour"
   ]
  },
  {
   "cell_type": "code",
   "execution_count": null,
   "metadata": {},
   "outputs": [
    {
     "name": "stdout",
     "output_type": "stream",
     "text": [
      "Running experiment with extadj:True\n",
      "Running experiment with extadj:False\n",
      "Running experiment with extadj:True\n",
      "Running experiment with extadj:False\n",
      "Running experiment with extadj:True\n",
      "Running experiment with extadj:False\n",
      "Running experiment with extadj:True\n",
      "Running experiment with extadj:False\n",
      "Running experiment with extadj:True\n",
      "Running experiment with extadj:False\n",
      "Running experiment with extadj:True\n",
      "Running experiment with extadj:False\n",
      "Running experiment with extadj:True\n",
      "Running experiment with extadj:False\n",
      "Running experiment with extadj:True\n",
      "Running experiment with extadj:False\n",
      "Running experiment with extadj:True\n",
      "Running experiment with extadj:False\n",
      "Running experiment with extadj:True\n",
      "Running experiment with extadj:False\n",
      "Running experiment with extadj:True\n",
      "Running experiment with extadj:False\n",
      "Running experiment with extadj:True\n",
      "Running experiment with extadj:False\n",
      "Running experiment with extadj:True\n",
      "Running experiment with extadj:False\n",
      "Running experiment with extadj:True\n",
      "Running experiment with extadj:False\n",
      "Running experiment with extadj:True\n",
      "Running experiment with extadj:False\n",
      "Running experiment with extadj:True\n",
      "Running experiment with extadj:False\n",
      "Running experiment with extadj:True\n",
      "Running experiment with extadj:False\n",
      "Running experiment with extadj:True\n",
      "Running experiment with extadj:False\n",
      "Running experiment with extadj:True\n",
      "Running experiment with extadj:False\n",
      "Running experiment with extadj:True\n",
      "Running experiment with extadj:False\n",
      "Running experiment with extadj:True\n",
      "Running experiment with extadj:False\n",
      "Running experiment with extadj:True\n",
      "Running experiment with extadj:False\n",
      "Running experiment with extadj:True\n",
      "Running experiment with extadj:False\n",
      "Running experiment with extadj:True\n",
      "Running experiment with extadj:False\n",
      "Running experiment with extadj:True\n",
      "Running experiment with extadj:False\n",
      "Running experiment with extadj:True\n",
      "Running experiment with extadj:False\n",
      "Running experiment with extadj:True\n",
      "Running experiment with extadj:False\n",
      "Running experiment with extadj:True\n",
      "Running experiment with extadj:False\n",
      "Running experiment with extadj:True\n",
      "Running experiment with extadj:False\n",
      "Running experiment with extadj:True\n",
      "Running experiment with extadj:False\n",
      "Running experiment with extadj:True\n",
      "Running experiment with extadj:False\n",
      "Running experiment with extadj:True\n",
      "Running experiment with extadj:False\n",
      "Running experiment with extadj:True\n",
      "Running experiment with extadj:False\n",
      "Running experiment with extadj:True\n",
      "Running experiment with extadj:False\n",
      "Running experiment with extadj:True\n",
      "Running experiment with extadj:False\n",
      "Running experiment with extadj:True\n",
      "Running experiment with extadj:False\n",
      "Running experiment with extadj:True\n",
      "Running experiment with extadj:False\n",
      "Running experiment with extadj:True\n",
      "Running experiment with extadj:False\n",
      "Running experiment with extadj:True\n",
      "Running experiment with extadj:False\n",
      "Running experiment with extadj:True\n",
      "Running experiment with extadj:False\n",
      "Running experiment with extadj:True\n",
      "Running experiment with extadj:False\n",
      "Running experiment with extadj:True\n",
      "Running experiment with extadj:False\n",
      "Running experiment with extadj:True\n",
      "Running experiment with extadj:False\n",
      "Running experiment with extadj:True\n",
      "Running experiment with extadj:False\n",
      "Running experiment with extadj:True\n",
      "Running experiment with extadj:False\n",
      "Running experiment with extadj:True\n",
      "Running experiment with extadj:False\n",
      "Running experiment with extadj:True\n",
      "Running experiment with extadj:False\n",
      "Running experiment with extadj:True\n",
      "Running experiment with extadj:False\n",
      "Running experiment with extadj:True\n",
      "Running experiment with extadj:False\n",
      "Running experiment with extadj:True\n",
      "Running experiment with extadj:False\n",
      "0.721674 0.05744639174047401\n",
      "0.7125060000000001 0.06154873974339361\n"
     ]
    }
   ],
   "source": [
    "extadj = []\n",
    "normal = []\n",
    "\n",
    "for i in range(50):\n",
    "    extadj.append(run_experiment(extadj=True, rate=1))\n",
    "    normal.append(run_experiment(extadj=False, rate= 0.09))\n",
    "\n",
    "print(np.mean(extadj), np.std(extadj))\n",
    "print(np.mean(normal), np.std(normal))"
   ]
  },
  {
   "cell_type": "markdown",
   "metadata": {},
   "source": [
    "Frontier Sampling"
   ]
  },
  {
   "cell_type": "code",
   "execution_count": 5,
   "metadata": {},
   "outputs": [
    {
     "name": "stdout",
     "output_type": "stream",
     "text": [
      "Running experiment with extadj:True\n",
      "Running experiment with extadj:False\n",
      "Running experiment with extadj:True\n",
      "Running experiment with extadj:False\n",
      "Running experiment with extadj:True\n",
      "Running experiment with extadj:False\n",
      "Running experiment with extadj:True\n",
      "Running experiment with extadj:False\n",
      "Running experiment with extadj:True\n",
      "Running experiment with extadj:False\n",
      "Running experiment with extadj:True\n",
      "Running experiment with extadj:False\n",
      "Running experiment with extadj:True\n",
      "Running experiment with extadj:False\n",
      "Running experiment with extadj:True\n",
      "Running experiment with extadj:False\n",
      "Running experiment with extadj:True\n",
      "Running experiment with extadj:False\n",
      "Running experiment with extadj:True\n",
      "Running experiment with extadj:False\n",
      "0.7244500000000001 0.03193300017223561\n",
      "0.74274 0.04662883657137504\n"
     ]
    }
   ],
   "source": [
    "#ppr_num is set to 150 and topk = 8\n",
    "\n",
    "extadj = []\n",
    "normal = []\n",
    "\n",
    "for i in range(10):\n",
    "    extadj.append(run_experiment(extadj=True, rate=1))\n",
    "    normal.append(run_experiment(extadj=False, rate= 0.1))\n",
    "\n",
    "print(np.mean(extadj), np.std(extadj))\n",
    "print(np.mean(normal), np.std(normal))"
   ]
  }
 ],
 "metadata": {
  "kernelspec": {
   "display_name": "venv",
   "language": "python",
   "name": "python3"
  },
  "language_info": {
   "codemirror_mode": {
    "name": "ipython",
    "version": 3
   },
   "file_extension": ".py",
   "mimetype": "text/x-python",
   "name": "python",
   "nbconvert_exporter": "python",
   "pygments_lexer": "ipython3",
   "version": "3.7.0"
  }
 },
 "nbformat": 4,
 "nbformat_minor": 2
}
